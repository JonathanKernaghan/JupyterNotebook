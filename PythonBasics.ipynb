{
  "nbformat": 4,
  "nbformat_minor": 0,
  "metadata": {
    "colab": {
      "name": "PythonBasics.ipynb",
      "provenance": [],
      "collapsed_sections": [],
      "authorship_tag": "ABX9TyNv3HGQhgTePp/2ZniH58cG",
      "include_colab_link": true
    },
    "kernelspec": {
      "name": "python3",
      "display_name": "Python 3"
    }
  },
  "cells": [
    {
      "cell_type": "markdown",
      "metadata": {
        "id": "view-in-github",
        "colab_type": "text"
      },
      "source": [
        "<a href=\"https://colab.research.google.com/github/JonathanKernaghan/JupyterNotebook/blob/main/PythonBasics.ipynb\" target=\"_parent\"><img src=\"https://colab.research.google.com/assets/colab-badge.svg\" alt=\"Open In Colab\"/></a>"
      ]
    },
    {
      "cell_type": "markdown",
      "metadata": {
        "id": "lHKiXHM6lMnH"
      },
      "source": [
        "Python Basics"
      ]
    },
    {
      "cell_type": "code",
      "metadata": {
        "id": "KV0r2mXI_SNs"
      },
      "source": [
        ""
      ],
      "execution_count": null,
      "outputs": []
    },
    {
      "cell_type": "code",
      "metadata": {
        "id": "WefHNov4lQOm",
        "outputId": "8c0a433f-af3f-41e5-9f67-16bd734e2a0d",
        "colab": {
          "base_uri": "https://localhost:8080/"
        }
      },
      "source": [
        "# Creating Variables\n",
        "\n",
        "myFavNumber  = 1\n",
        "myName = 'Jonathan'\n",
        "myHeight = 6.0\n",
        "\n",
        "print('Favourite Number: ', myFavNumber, 'Name: ', myName, 'Height: ', myHeight)"
      ],
      "execution_count": 50,
      "outputs": [
        {
          "output_type": "stream",
          "text": [
            "Favourite Number:  1 Name:  Jonathan Height:  6.0\n"
          ],
          "name": "stdout"
        }
      ]
    },
    {
      "cell_type": "code",
      "metadata": {
        "id": "JBXU2e2G1T83",
        "outputId": "20726484-2ce6-45f7-b443-df308658af00",
        "colab": {
          "base_uri": "https://localhost:8080/",
          "height": 120
        }
      },
      "source": [
        "# A tuple is a collection which is ordered and unchangeable\n",
        "\n",
        "firstThreeLettersOfAlphabet = ('a', 'b', 'c')\n",
        "print(firstThreeLettersOfAlphabet)\n",
        "\n",
        "for x in firstThreeLettersOfAlphabet:\n",
        "  print(x)\n",
        "\n",
        "print(firstThreeLettersOfAlphabet[0:3])\n",
        "\n",
        "firstThreeLettersOfAlphabet[0:3]\n",
        "\n",
        "firstThreeLettersOfAlphabet[2]"
      ],
      "execution_count": 107,
      "outputs": [
        {
          "output_type": "stream",
          "text": [
            "('a', 'b', 'c')\n",
            "a\n",
            "b\n",
            "c\n",
            "('a', 'b', 'c')\n"
          ],
          "name": "stdout"
        },
        {
          "output_type": "execute_result",
          "data": {
            "application/vnd.google.colaboratory.intrinsic+json": {
              "type": "string"
            },
            "text/plain": [
              "'c'"
            ]
          },
          "metadata": {
            "tags": []
          },
          "execution_count": 107
        }
      ]
    },
    {
      "cell_type": "code",
      "metadata": {
        "id": "XNcdJrT3mLoN",
        "outputId": "e40a9d11-5ce9-4185-8261-1af6c9247572",
        "colab": {
          "base_uri": "https://localhost:8080/"
        }
      },
      "source": [
        "# Creating loops\n",
        "\n",
        "for x in range(10):\n",
        "  print(abs(x - (x * x)))\n",
        "\n",
        "for y in 'happy':\n",
        "  print(y)\n",
        "\n",
        "z = 0\n",
        "while z < 10:\n",
        "  print(z)\n",
        "  z += 1"
      ],
      "execution_count": 80,
      "outputs": [
        {
          "output_type": "execute_result",
          "data": {
            "text/plain": [
              "[0, 1, 1, 2, 3, 5, 8, 13, 21, 34]"
            ]
          },
          "metadata": {
            "tags": []
          },
          "execution_count": 80
        }
      ]
    },
    {
      "cell_type": "code",
      "metadata": {
        "id": "lCOvc6ASxeOu",
        "outputId": "5eb2de7c-7444-4df8-a513-0d47531f6d23",
        "colab": {
          "base_uri": "https://localhost:8080/"
        }
      },
      "source": [
        "# Creating if statements\n",
        "\n",
        "if 1 == 1:\n",
        "  print('Hello 1 == 1')\n",
        "\n",
        "if 1 != 1:\n",
        "  print('Nothing')\n",
        "else:\n",
        "  print('Something')\n",
        "\n",
        "for x in range(10):\n",
        "  if x == 5:\n",
        "    print('X is at index ', x)\n",
        "  else:\n",
        "    print('X is not at index 5')\n"
      ],
      "execution_count": 89,
      "outputs": [
        {
          "output_type": "stream",
          "text": [
            "Hello 1 == 1\n",
            "Something\n",
            "X is not at index 5\n",
            "X is not at index 5\n",
            "X is not at index 5\n",
            "X is not at index 5\n",
            "X is not at index 5\n",
            "X is at index  5\n",
            "X is not at index 5\n",
            "X is not at index 5\n",
            "X is not at index 5\n",
            "X is not at index 5\n"
          ],
          "name": "stdout"
        }
      ]
    },
    {
      "cell_type": "code",
      "metadata": {
        "id": "e4wD1BJXxDvZ",
        "outputId": "8ea74060-8910-4ea4-d360-32892bc33d0d",
        "colab": {
          "base_uri": "https://localhost:8080/"
        }
      },
      "source": [
        "# Creating functions\n",
        "\n",
        "# Prints fibonacci sequence from x=0 to upper bound y\n",
        "def fibSeqToY(y):\n",
        "  y -= 2\n",
        "  arr = [0, 1]\n",
        "  for x in range(y):\n",
        "    arr.append(arr[x] + arr[x + 1])\n",
        "  return arr\n",
        "\n",
        "fibSeqToY(10)"
      ],
      "execution_count": 82,
      "outputs": [
        {
          "output_type": "execute_result",
          "data": {
            "text/plain": [
              "[0, 1, 1, 2, 3, 5, 8, 13, 21, 34]"
            ]
          },
          "metadata": {
            "tags": []
          },
          "execution_count": 82
        }
      ]
    },
    {
      "cell_type": "code",
      "metadata": {
        "id": "Vypqt7QAzWeF",
        "outputId": "15e3af8e-f546-4a46-a351-326069144352",
        "colab": {
          "base_uri": "https://localhost:8080/"
        }
      },
      "source": [
        "# Utilise lambda\n",
        "\n",
        "def multiplyByN(n):\n",
        "  return lambda a : a * n\n",
        "\n",
        "doubler = multiplyByN(2)\n",
        "\n",
        "for i in range(10):\n",
        "  print(doubler(i))\n",
        "else:\n",
        "  print('done doubling')\n",
        "\n",
        "tripler = multiplyByN(3) \n",
        "for i in range(10):\n",
        "  print(tripler(i))\n",
        "else:\n",
        "  print('done tripling')"
      ],
      "execution_count": 97,
      "outputs": [
        {
          "output_type": "stream",
          "text": [
            "0\n",
            "2\n",
            "4\n",
            "6\n",
            "8\n",
            "10\n",
            "12\n",
            "14\n",
            "16\n",
            "18\n",
            "done doubling\n",
            "0\n",
            "3\n",
            "6\n",
            "9\n",
            "12\n",
            "15\n",
            "18\n",
            "21\n",
            "24\n",
            "27\n",
            "done tripling\n"
          ],
          "name": "stdout"
        }
      ]
    }
  ]
}