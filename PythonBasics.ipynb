{
  "nbformat": 4,
  "nbformat_minor": 0,
  "metadata": {
    "colab": {
      "name": "PythonBasics.ipynb",
      "provenance": [],
      "collapsed_sections": [],
      "authorship_tag": "ABX9TyOWcH/gn0lfivM95TIw30q6",
      "include_colab_link": true
    },
    "kernelspec": {
      "name": "python3",
      "display_name": "Python 3"
    }
  },
  "cells": [
    {
      "cell_type": "markdown",
      "metadata": {
        "id": "view-in-github",
        "colab_type": "text"
      },
      "source": [
        "<a href=\"https://colab.research.google.com/github/JonathanKernaghan/JupyterNotebook/blob/main/PythonBasics.ipynb\" target=\"_parent\"><img src=\"https://colab.research.google.com/assets/colab-badge.svg\" alt=\"Open In Colab\"/></a>"
      ]
    },
    {
      "cell_type": "markdown",
      "metadata": {
        "id": "lHKiXHM6lMnH"
      },
      "source": [
        "Python Basics"
      ]
    },
    {
      "cell_type": "code",
      "metadata": {
        "id": "WefHNov4lQOm"
      },
      "source": [
        "# Creating Variables\n",
        "\n",
        "myFavNumber  = 1\n",
        "myName = 'Jonathan'\n",
        "myHeight = 6.0\n",
        "\n",
        "print('Favourite Number: ', myFavNumber, 'Name: ', myName, 'Height: ', myHeight)"
      ],
      "execution_count": null,
      "outputs": []
    },
    {
      "cell_type": "code",
      "metadata": {
        "id": "JBXU2e2G1T83"
      },
      "source": [
        "# A tuple is a collection which is ordered and unchangeable\n",
        "\n",
        "firstThreeLettersOfAlphabet = ('a', 'b', 'c')\n",
        "print(firstThreeLettersOfAlphabet)\n",
        "\n",
        "for x in firstThreeLettersOfAlphabet:\n",
        "  print(x)\n",
        "\n",
        "print(firstThreeLettersOfAlphabet[0:3])\n",
        "\n",
        "firstThreeLettersOfAlphabet[0:3]\n",
        "\n",
        "firstThreeLettersOfAlphabet[2]"
      ],
      "execution_count": null,
      "outputs": []
    },
    {
      "cell_type": "code",
      "metadata": {
        "id": "XNcdJrT3mLoN"
      },
      "source": [
        "# Creating loops\n",
        "\n",
        "for x in range(10):\n",
        "  print(abs(x - (x * x)))\n",
        "\n",
        "for y in 'happy':\n",
        "  print(y)\n",
        "\n",
        "z = 0\n",
        "while z < 10:\n",
        "  print(z)\n",
        "  z += 1"
      ],
      "execution_count": null,
      "outputs": []
    },
    {
      "cell_type": "code",
      "metadata": {
        "id": "lCOvc6ASxeOu"
      },
      "source": [
        "# Creating if statements\n",
        "\n",
        "if 1 == 1:\n",
        "  print('Hello 1 == 1')\n",
        "\n",
        "if 1 != 1:\n",
        "  print('Nothing')\n",
        "else:\n",
        "  print('Something')\n",
        "\n",
        "for x in range(10):\n",
        "  if x == 5:\n",
        "    print('X is at index ', x)\n",
        "  else:\n",
        "    print('X is not at index 5')\n"
      ],
      "execution_count": null,
      "outputs": []
    },
    {
      "cell_type": "code",
      "metadata": {
        "id": "e4wD1BJXxDvZ"
      },
      "source": [
        "# Creating functions\n",
        "\n",
        "# Prints fibonacci sequence from x=0 to upper bound y\n",
        "def fibSeqToY(y):\n",
        "  y -= 2\n",
        "  arr = [0, 1]\n",
        "  for x in range(y):\n",
        "    arr.append(arr[x] + arr[x + 1])\n",
        "  return arr\n",
        "\n",
        "fibSeqToY(10)"
      ],
      "execution_count": null,
      "outputs": []
    },
    {
      "cell_type": "code",
      "metadata": {
        "id": "Vypqt7QAzWeF"
      },
      "source": [
        "# Utilise lambda\n",
        "\n",
        "def multiplyByN(n):\n",
        "  return lambda a : a * n\n",
        "\n",
        "doubler = multiplyByN(2)\n",
        "\n",
        "for i in range(10):\n",
        "  print(doubler(i))\n",
        "else:\n",
        "  print('done doubling')\n",
        "\n",
        "tripler = multiplyByN(3) \n",
        "for i in range(10):\n",
        "  print(tripler(i))\n",
        "else:\n",
        "  print('done tripling')"
      ],
      "execution_count": null,
      "outputs": []
    }
  ]
}